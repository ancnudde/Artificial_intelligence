{
 "cells": [
  {
   "cell_type": "code",
   "execution_count": 11,
   "metadata": {},
   "outputs": [],
   "source": [
    "import shallow_nn as nn\n",
    "import optimized_tree as trr\n",
    "import numpy as np\n",
    "import matplotlib.pyplot as plt\n",
    "from collections import Counter\n",
    "from sklearn import preprocessing"
   ]
  },
  {
   "cell_type": "code",
   "execution_count": 3,
   "metadata": {},
   "outputs": [],
   "source": [
    "def read_unirep(file_path):\n",
    "    \"\"\"\n",
    "    Parse a Unirep file.\n",
    "    \"\"\"\n",
    "    data_matrix = []\n",
    "    with open(file_path) as fp:\n",
    "        data = fp.readlines()\n",
    "    for i, line in enumerate(data):\n",
    "        if line[0] == '>':\n",
    "            data_matrix.append(np.array(\n",
    "                data[i + 1].strip().split(sep=' '),\n",
    "                dtype=np.float64))\n",
    "    return np.array(data_matrix)"
   ]
  },
  {
   "cell_type": "code",
   "execution_count": 4,
   "metadata": {},
   "outputs": [],
   "source": [
    "# Imports unirep files.\n",
    "raw_cyt = read_unirep(\"cytoxplasmUniRef50(1).unirep\")\n",
    "raw_peri = read_unirep(\"periplasmUniRef50(1).unirep\")\n",
    "# Shuffle imported data.\n",
    "np.random.shuffle(raw_cyt)\n",
    "np.random.shuffle(raw_peri)\n",
    "# Creates mixed dataset (from shuffled = random selection).\n",
    "all_raw = np.concatenate((raw_cyt[1:3000], raw_peri[1:3000]))"
   ]
  },
  {
   "cell_type": "code",
   "execution_count": 5,
   "metadata": {},
   "outputs": [
    {
     "name": "stdout",
     "output_type": "stream",
     "text": [
      "0.9999999999999998\n"
     ]
    }
   ],
   "source": [
    "scaled_transfrom = preprocessing.scale(all_raw, axis=0)\n",
    "# Check for successfull scaling.\n",
    "print(np.std(scaled_transfrom[:, 25]))"
   ]
  },
  {
   "cell_type": "code",
   "execution_count": 6,
   "metadata": {},
   "outputs": [],
   "source": [
    "# Gives value 1 to cytoplasmic proteins, 0 to others.\n",
    "labels = np.zeros(len(all_raw), dtype=int)\n",
    "labels[0:3000] = 1"
   ]
  },
  {
   "cell_type": "code",
   "execution_count": 7,
   "metadata": {},
   "outputs": [],
   "source": [
    "# One hot encoding for neural network.\n",
    "def one_hot(labels):\n",
    "    encoded_labels = []\n",
    "    number_classes = len(set(labels))\n",
    "    for item in labels:\n",
    "        encoded = np.zeros(number_classes, dtype=int)\n",
    "        encoded[item] = 1\n",
    "        encoded_labels.append(encoded)\n",
    "    return np.array(encoded_labels)"
   ]
  },
  {
   "cell_type": "code",
   "execution_count": 8,
   "metadata": {},
   "outputs": [],
   "source": [
    "f_labels = one_hot(labels)"
   ]
  },
  {
   "cell_type": "code",
   "execution_count": 9,
   "metadata": {},
   "outputs": [],
   "source": [
    "# Prepares input for neural network.\n",
    "def nn_input_format(dataset, labels):\n",
    "    encoded_data = []\n",
    "    for data, lab in zip(dataset, labels):\n",
    "        value = (data.reshape((-1,1)), lab.reshape((-1,1)))\n",
    "        encoded_data.append(value)\n",
    "    return encoded_data"
   ]
  },
  {
   "cell_type": "code",
   "execution_count": 10,
   "metadata": {},
   "outputs": [
    {
     "data": {
      "text/plain": [
       "5998"
      ]
     },
     "execution_count": 10,
     "metadata": {},
     "output_type": "execute_result"
    }
   ],
   "source": [
    "x = nn_input_format(scaled_transfrom, f_labels)\n",
    "len(x)"
   ]
  },
  {
   "cell_type": "code",
   "execution_count": 11,
   "metadata": {},
   "outputs": [
    {
     "data": {
      "text/plain": [
       "0.9914796706917377"
      ]
     },
     "execution_count": 11,
     "metadata": {},
     "output_type": "execute_result"
    }
   ],
   "source": [
    "# 10-fold cross validation.\n",
    "def nn_10fold(arch):\n",
    "    # Shuffle dataset.\n",
    "    np.random.shuffle(x)\n",
    "    n = len(x) / 10  # size of fold.\n",
    "    tot_result = 0\n",
    "    # trains and test on each fold.\n",
    "    for i in range(10):\n",
    "        network = nn.ShallowNetwork(arch)  # Initialize network.\n",
    "        # Test fold.\n",
    "        x_test_1 = x[int(i * n):int((i+1) * n)]\n",
    "        # Train fold.\n",
    "        x_train_1 = x[0:int(i * n)] + x[int((i+1) * n):]\n",
    "        # Training step.\n",
    "        network.stochastic_gradient_descent(x_train_1, 10, 10, 0.5, 0.5)\n",
    "        # Current model score init.\n",
    "        result = 0\n",
    "        # Test phase using test set.\n",
    "        for elt in x_test_1:\n",
    "            result += network.predict(elt[0]) == np.where(elt[1] == 1)[0][0]\n",
    "            result /= len(x_test_1)\n",
    "            tot_result += result  # Adds fold result to total result.\n",
    "    # Averages the results.\n",
    "    final_res = tot_result / 10\n",
    "    return (final_res)\n",
    "\n",
    "# Parameter = architecture: 64 inputs, 32hn, 2 outputs(0 or 1).\n",
    "nn_10fold([64, 32, 2])"
   ]
  },
  {
   "cell_type": "code",
   "execution_count": 10,
   "metadata": {},
   "outputs": [],
   "source": [
    "# Shuffles data and lables the same way.\n",
    "def unison_shuffled_copies(a, b):\n",
    "    assert len(a) == len(b)\n",
    "    p = np.random.permutation(len(a))\n",
    "    return a[p], b[p]"
   ]
  },
  {
   "cell_type": "code",
   "execution_count": 14,
   "metadata": {},
   "outputs": [
    {
     "name": "stdout",
     "output_type": "stream",
     "text": [
      "0\n"
     ]
    },
    {
     "name": "stderr",
     "output_type": "stream",
     "text": [
      "/home/anthony/Documents/Deep_Learning/optimized_tree.py:277: FutureWarning: Conversion of the second argument of issubdtype from `int` to `np.signedinteger` is deprecated. In future, it will be treated as `np.int64 == np.dtype(int).type`.\n",
      "  while not np.issubdtype(type(current_node.split), int):\n"
     ]
    },
    {
     "name": "stdout",
     "output_type": "stream",
     "text": [
      "1\n",
      "2\n",
      "3\n",
      "4\n",
      "5\n",
      "6\n",
      "7\n",
      "8\n",
      "9\n"
     ]
    },
    {
     "data": {
      "text/plain": [
       "0.9787896242941093"
      ]
     },
     "execution_count": 14,
     "metadata": {},
     "output_type": "execute_result"
    }
   ],
   "source": [
    "# 10-fold cross-validation for decision trees.\n",
    "def dt_10fold():\n",
    "    # Shuffles dataset.\n",
    "    new_scaled, new_labels = unison_shuffled_copies(scaled_transfrom, labels)\n",
    "    n = len(new_scaled) / 10  # Size of fold.\n",
    "    tot_result = 0\n",
    "    # Trains and test on each fold.\n",
    "    for i in range(10):\n",
    "        # Training data and labels.\n",
    "        x_train_2 = np.concatenate((new_scaled[0:int(i * n)], new_scaled[int((i+1) * n):]), axis=0)\n",
    "        x_labs_train = np.concatenate((new_labels[0:int(i * n)], new_labels[int((i+1) * n):]), axis=0)\n",
    "        # Test data and labels.\n",
    "        x_test_2 = new_scaled[int(i * n):int((i+1) * n)]\n",
    "        x_labs_test = new_labels[int(i * n):int((i+1) * n)]\n",
    "        # Model generation.\n",
    "        dt = trr.DecisionTree(x_train_2, x_labs_train, trr.CostFunction.gini, 5)\n",
    "        result = 0  # Fold result init.\n",
    "        for elt, lab in zip(x_test_2, x_labs_test):\n",
    "            result += dt.predict(elt) == lab\n",
    "            result /= len(x_test_2)\n",
    "            tot_result += result  # Adds fold result to total result.\n",
    "    # Averages the results.\n",
    "    final_res = tot_result / 10\n",
    "    return (final_res)\n",
    "\n",
    "dt_10fold()"
   ]
  },
  {
   "cell_type": "code",
   "execution_count": 12,
   "metadata": {},
   "outputs": [
    {
     "name": "stdout",
     "output_type": "stream",
     "text": [
      "`- Split(feature=33, value=0.317, score=0.8785), Classes: {1: 3000, 0: 2998}\n",
      "   |- Split(feature=32, value=-0.4969, score=0.9341), Classes: {0: 2828, 1: 221}\n",
      "   |  |- Split(feature=17, value=1.1483, score=0.8999), Classes: {1: 132, 0: 16}\n",
      "   |  |  |- Split(feature=54, value=-1.4686, score=0.9699), Classes: {1: 127, 0: 4}\n",
      "   |  |  |  |- 0, Classes: {0: 2}\n",
      "   |  |  |  `- Split(feature=22, value=2.2496, score=0.9846), Classes: {1: 127, 0: 2}\n",
      "   |  |  |     |- 1, Classes: {1: 127, 0: 1}\n",
      "   |  |  |     `- 0, Classes: {0: 1}\n",
      "   |  |  `- Split(feature=15, value=0.1882, score=0.902), Classes: {0: 12, 1: 5}\n",
      "   |  |     |- Split(feature=54, value=-0.3698, score=1.0), Classes: {1: 5, 0: 1}\n",
      "   |  |     |  |- 0, Classes: {0: 1}\n",
      "   |  |     |  `- 1, Classes: {1: 5}\n",
      "   |  |     `- 0, Classes: {0: 11}\n",
      "   |  `- Split(feature=47, value=0.7915, score=0.9583), Classes: {0: 2812, 1: 89}\n",
      "   |     |- Split(feature=46, value=-1.1056, score=0.977), Classes: {0: 2770, 1: 38}\n",
      "   |     |  |- Split(feature=56, value=0.9134, score=0.8857), Classes: {1: 9, 0: 6}\n",
      "   |     |  |  |- 1, Classes: {1: 8}\n",
      "   |     |  |  `- 0, Classes: {1: 1, 0: 6}\n",
      "   |     |  `- Split(feature=39, value=1.3867, score=0.9809), Classes: {0: 2764, 1: 29}\n",
      "   |     |     |- 0, Classes: {0: 2764, 1: 27}\n",
      "   |     |     `- 1, Classes: {1: 2}\n",
      "   |     `- Split(feature=33, value=-0.4439, score=0.7032), Classes: {0: 42, 1: 51}\n",
      "   |        |- Split(feature=25, value=-1.0239, score=0.8929), Classes: {0: 30, 1: 5}\n",
      "   |        |  |- 1, Classes: {1: 3}\n",
      "   |        |  `- 0, Classes: {0: 30, 1: 2}\n",
      "   |        `- Split(feature=60, value=-0.0072, score=0.7624), Classes: {0: 12, 1: 46}\n",
      "   |           |- 0, Classes: {0: 5, 1: 1}\n",
      "   |           `- 1, Classes: {1: 45, 0: 7}\n",
      "   `- Split(feature=41, value=0.1354, score=0.9304), Classes: {1: 2779, 0: 170}\n",
      "      |- Split(feature=60, value=-0.601, score=0.9555), Classes: {1: 2757, 0: 88}\n",
      "      |  |- Split(feature=46, value=-0.7452, score=0.97), Classes: {1: 25, 0: 39}\n",
      "      |  |  |- Split(feature=55, value=1.4875, score=1.0), Classes: {1: 25, 0: 1}\n",
      "      |  |  |  |- 1, Classes: {1: 25}\n",
      "      |  |  |  `- 0, Classes: {0: 1}\n",
      "      |  |  `- 0, Classes: {0: 38}\n",
      "      |  `- Split(feature=41, value=-0.1118, score=0.9679), Classes: {1: 2732, 0: 49}\n",
      "      |     |- Split(feature=35, value=1.9097, score=0.9774), Classes: {1: 2684, 0: 33}\n",
      "      |     |  |- 1, Classes: {1: 2684, 0: 31}\n",
      "      |     |  `- 0, Classes: {0: 2}\n",
      "      |     `- Split(feature=30, value=-0.5243, score=0.8854), Classes: {0: 16, 1: 48}\n",
      "      |        |- 0, Classes: {0: 14, 1: 2}\n",
      "      |        `- 1, Classes: {1: 46, 0: 2}\n",
      "      `- Split(feature=18, value=-0.8105, score=0.842), Classes: {0: 82, 1: 22}\n",
      "         |- Split(feature=58, value=-4.1147, score=1.0), Classes: {1: 14, 0: 1}\n",
      "         |  |- 0, Classes: {0: 1}\n",
      "         |  `- 1, Classes: {1: 14}\n",
      "         `- Split(feature=46, value=-0.9253, score=0.8964), Classes: {0: 81, 1: 8}\n",
      "            |- Split(feature=61, value=-0.7312, score=1.0), Classes: {1: 4, 0: 1}\n",
      "            |  |- 0, Classes: {0: 1}\n",
      "            |  `- 1, Classes: {1: 4}\n",
      "            `- Split(feature=9, value=-0.2973, score=0.981), Classes: {0: 80, 1: 4}\n",
      "               |- 0, Classes: {0: 79}\n",
      "               `- 1, Classes: {1: 4, 0: 1}\n"
     ]
    },
    {
     "data": {
      "text/plain": [
       "\n",
       "Decision tree trained with 5998 samples, 2 classes"
      ]
     },
     "execution_count": 12,
     "metadata": {},
     "output_type": "execute_result"
    }
   ],
   "source": [
    "# Single model training for visualisation of the architecture.\n",
    "new_scaled, new_labels = unison_shuffled_copies(scaled_transfrom, labels)\n",
    "dt = trr.DecisionTree(new_scaled, new_labels, trr.CostFunction.gini, 5)\n",
    "dt"
   ]
  },
  {
   "cell_type": "code",
   "execution_count": null,
   "metadata": {},
   "outputs": [],
   "source": []
  }
 ],
 "metadata": {
  "kernelspec": {
   "display_name": "Python 3",
   "language": "python",
   "name": "python3"
  },
  "language_info": {
   "codemirror_mode": {
    "name": "ipython",
    "version": 3
   },
   "file_extension": ".py",
   "mimetype": "text/x-python",
   "name": "python",
   "nbconvert_exporter": "python",
   "pygments_lexer": "ipython3",
   "version": "3.7.4"
  }
 },
 "nbformat": 4,
 "nbformat_minor": 2
}
